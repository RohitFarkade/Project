{
  "nbformat": 4,
  "nbformat_minor": 0,
  "metadata": {
    "colab": {
      "provenance": []
    },
    "kernelspec": {
      "name": "python3",
      "display_name": "Python 3"
    },
    "language_info": {
      "name": "python"
    }
  },
  "cells": [
    {
      "cell_type": "code",
      "source": [
        "import tensorflow as tf\n",
        "from tensorflow.keras.preprocessing.image import ImageDataGenerator\n",
        "from tensorflow.keras import layers, models\n",
        "import matplotlib.pyplot as plt\n",
        "import numpy as np\n",
        "import os"
      ],
      "metadata": {
        "id": "ZyQUisCgDbzG"
      },
      "execution_count": null,
      "outputs": []
    },
    {
      "cell_type": "code",
      "source": [
        "\n",
        "# Define paths\n",
        "train_dir = \"/content/drive/MyDrive/dataset/Training\"\n",
        "test_dir = \"/content/drive/MyDrive/dataset/Testing\""
      ],
      "metadata": {
        "id": "EHOO75ogDeU5"
      },
      "execution_count": null,
      "outputs": []
    },
    {
      "cell_type": "code",
      "source": [
        "# ImageDataGenerator for the training and testing data\n",
        "train_datagen = ImageDataGenerator(rescale=1./255)\n",
        "test_datagen = ImageDataGenerator(rescale=1./255)\n",
        "\n",
        "# Load images from directory and apply transformations\n",
        "train_generator = train_datagen.flow_from_directory(\n",
        "    train_dir,\n",
        "    target_size=(256, 256),\n",
        "    batch_size=32,\n",
        "    class_mode='binary') # Use 'binary' for binary labels\n",
        "\n",
        "test_generator = test_datagen.flow_from_directory(\n",
        "    test_dir,\n",
        "    target_size=(256, 256),\n",
        "    batch_size=32,\n",
        "    class_mode='binary') # Use 'binary' for binary labels\n"
      ],
      "metadata": {
        "colab": {
          "base_uri": "https://localhost:8080/"
        },
        "id": "HHwoM3L2Djvf",
        "outputId": "bba95fdf-1b0c-48b3-d9d2-edc770290e81"
      },
      "execution_count": null,
      "outputs": [
        {
          "output_type": "stream",
          "name": "stdout",
          "text": [
            "Found 48 images belonging to 2 classes.\n",
            "Found 12 images belonging to 2 classes.\n"
          ]
        }
      ]
    },
    {
      "cell_type": "code",
      "source": [
        "# Define the model\n",
        "model = models.Sequential([\n",
        "    layers.Conv2D(32, (3, 3), activation='relu', input_shape=(256, 256, 3)),\n",
        "    layers.MaxPooling2D((2, 2)),\n",
        "    layers.Conv2D(64, (3, 3), activation='relu'),\n",
        "    layers.MaxPooling2D((2, 2)),\n",
        "    layers.Conv2D(64, (3, 3), activation='relu'),\n",
        "    layers.Flatten(),\n",
        "    layers.Dense(64, activation='relu'),\n",
        "    layers.Dense(2, activation='softmax') # Changed to 2 for binary classification\n",
        "])\n"
      ],
      "metadata": {
        "id": "6OPpJZq7Dnrg"
      },
      "execution_count": null,
      "outputs": []
    },
    {
      "cell_type": "code",
      "source": [
        "\n",
        "\n",
        "\n",
        "# Compile the model\n",
        "model.compile(optimizer='adam',\n",
        "              loss='sparse_categorical_crossentropy', # Changed to 'sparse_categorical_crossentropy'\n",
        "              metrics=['accuracy'])\n",
        "\n",
        "# Train the model\n",
        "history = model.fit(\n",
        "    train_generator,\n",
        "    epochs=10,\n",
        "    validation_data=test_generator)"
      ],
      "metadata": {
        "colab": {
          "base_uri": "https://localhost:8080/"
        },
        "id": "LTttgdyfDoYo",
        "outputId": "b93698c1-5d37-44c7-da83-f02eacbe482d"
      },
      "execution_count": null,
      "outputs": [
        {
          "output_type": "stream",
          "name": "stdout",
          "text": [
            "Epoch 1/10\n",
            "2/2 [==============================] - 10s 4s/step - loss: 1.9703 - accuracy: 0.4167 - val_loss: 3.3898 - val_accuracy: 0.5000\n",
            "Epoch 2/10\n",
            "2/2 [==============================] - 7s 3s/step - loss: 2.5605 - accuracy: 0.5000 - val_loss: 0.8545 - val_accuracy: 0.5000\n",
            "Epoch 3/10\n",
            "2/2 [==============================] - 8s 4s/step - loss: 0.3515 - accuracy: 0.8958 - val_loss: 1.7047 - val_accuracy: 0.5000\n",
            "Epoch 4/10\n",
            "2/2 [==============================] - 8s 6s/step - loss: 0.4681 - accuracy: 0.8750 - val_loss: 0.2168 - val_accuracy: 0.9167\n",
            "Epoch 5/10\n",
            "2/2 [==============================] - 6s 4s/step - loss: 0.1192 - accuracy: 1.0000 - val_loss: 0.0423 - val_accuracy: 1.0000\n",
            "Epoch 6/10\n",
            "2/2 [==============================] - 6s 4s/step - loss: 0.0080 - accuracy: 1.0000 - val_loss: 0.0012 - val_accuracy: 1.0000\n",
            "Epoch 7/10\n",
            "2/2 [==============================] - 8s 6s/step - loss: 0.0014 - accuracy: 1.0000 - val_loss: 6.7570e-04 - val_accuracy: 1.0000\n",
            "Epoch 8/10\n",
            "2/2 [==============================] - 7s 4s/step - loss: 6.8809e-04 - accuracy: 1.0000 - val_loss: 1.9768e-05 - val_accuracy: 1.0000\n",
            "Epoch 9/10\n",
            "2/2 [==============================] - 7s 2s/step - loss: 2.1878e-05 - accuracy: 1.0000 - val_loss: 3.2881e-06 - val_accuracy: 1.0000\n",
            "Epoch 10/10\n",
            "2/2 [==============================] - 7s 2s/step - loss: 4.3958e-07 - accuracy: 1.0000 - val_loss: 8.0507e-05 - val_accuracy: 1.0000\n"
          ]
        }
      ]
    },
    {
      "cell_type": "code",
      "source": [
        "\n",
        "\n",
        "\n",
        "# Plot training history\n",
        "plt.plot(history.history['accuracy'], label='Training Accuracy')\n",
        "plt.plot(history.history['val_accuracy'], label='Validation Accuracy')\n",
        "plt.xlabel(\"Epoch\")\n",
        "plt.ylabel(\"Accuracy\")\n",
        "plt.legend(loc='lower right')\n",
        "plt.show()\n",
        "\n",
        "# Evaluate the model\n",
        "test_loss, test_acc = model.evaluate(test_generator, verbose=2)\n",
        "print(f\"Test Accuracy: {test_acc}\")\n"
      ],
      "metadata": {
        "colab": {
          "base_uri": "https://localhost:8080/",
          "height": 484
        },
        "id": "0JHqXx5wDtpn",
        "outputId": "1a71a797-4d54-40ef-9e65-a540a995e394"
      },
      "execution_count": null,
      "outputs": [
        {
          "output_type": "display_data",
          "data": {
            "text/plain": [
              "<Figure size 640x480 with 1 Axes>"
            ],
            "image/png": "[encoded data removed]"
          },
          "metadata": {}
        },
        {
          "output_type": "stream",
          "name": "stdout",
          "text": [
            "1/1 - 1s - loss: 8.0507e-05 - accuracy: 1.0000 - 553ms/epoch - 553ms/step\n",
            "Test Accuracy: 1.0\n"
          ]
        }
      ]
    },
    {
      "cell_type": "code",
      "execution_count": null,
      "metadata": {
        "colab": {
          "base_uri": "https://localhost:8080/"
        },
        "id": "CLF3Nmml-7CW",
        "outputId": "adfad527-f890-4c83-bb91-8e36f084282f"
      },
      "outputs": [
        {
          "output_type": "stream",
          "name": "stdout",
          "text": [
            "1/1 [==============================] - 0s 52ms/step\n",
            "No click\n"
          ]
        }
      ],
      "source": [
        "\n",
        "\n",
        "# Example of making a prediction\n",
        "import cv2\n",
        "\n",
        "def prepare_image(image_path):\n",
        "    img = cv2.imread(image_path)\n",
        "    img = cv2.resize(img, (256, 256))\n",
        "    img = img / 255.0\n",
        "    img = np.expand_dims(img, axis=0)\n",
        "    return img\n",
        "\n",
        "sample_image_path = '/WIN_20240223_17_59_51_Pro.jpg'\n",
        "sample = prepare_image(sample_image_path)\n",
        "prediction = model.predict(sample)\n",
        "\n",
        "if np.argmax(prediction) == 0:\n",
        "    print(\"Click\")\n",
        "else:\n",
        "    print(\"No click\")\n"
      ]
    },
    {
      "cell_type": "code",
      "source": [],
      "metadata": {
        "id": "Szg2Iv5D_j59"
      },
      "execution_count": null,
      "outputs": []
    }
  ]
}